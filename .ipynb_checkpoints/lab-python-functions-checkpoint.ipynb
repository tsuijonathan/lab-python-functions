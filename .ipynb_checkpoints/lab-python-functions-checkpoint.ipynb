{
 "cells": [
  {
   "cell_type": "markdown",
   "id": "25d7736c-ba17-4aff-b6bb-66eba20fbf4e",
   "metadata": {},
   "source": [
    "# Lab | Functions"
   ]
  },
  {
   "cell_type": "markdown",
   "id": "0c581062-8967-4d93-b06e-62833222f930",
   "metadata": {
    "tags": []
   },
   "source": [
    "## Exercise: Managing Customer Orders with Functions\n",
    "\n",
    "In the previous exercise, you improved the code for managing customer orders by using loops and flow control. Now, let's take it a step further and refactor the code by introducing functions.\n",
    "\n",
    "Follow the steps below to complete the exercise:\n",
    "\n",
    "1. Define a function named `initialize_inventory` that takes `products` as a parameter. Inside the function, implement the code for initializing the inventory dictionary using a loop and user input.\n",
    "\n",
    "2. Define a function named `get_customer_orders` that takes no parameters. Inside the function, implement the code for prompting the user to enter the product names using a loop. The function should return the `customer_orders` set.\n",
    "\n",
    "3. Define a function named `update_inventory` that takes `customer_orders` and `inventory` as parameters. Inside the function, implement the code for updating the inventory dictionary based on the customer orders.\n",
    "\n",
    "4. Define a function named `calculate_order_statistics` that takes `customer_orders` and `products` as parameters. Inside the function, implement the code for calculating the order statistics (total products ordered, and percentage of unique products ordered). The function should return these values.\n",
    "\n",
    "5. Define a function named `print_order_statistics` that takes `order_statistics` as a parameter. Inside the function, implement the code for printing the order statistics.\n",
    "\n",
    "6. Define a function named `print_updated_inventory` that takes `inventory` as a parameter. Inside the function, implement the code for printing the updated inventory.\n",
    "\n",
    "7. Call the functions in the appropriate sequence to execute the program and manage customer orders.\n",
    "\n",
    "Hints for functions:\n",
    "\n",
    "- Consider the input parameters required for each function and their return values.\n",
    "- Utilize function parameters and return values to transfer data between functions.\n",
    "- Test your functions individually to ensure they work correctly.\n",
    "\n",
    "\n"
   ]
  },
  {
   "cell_type": "code",
   "execution_count": 80,
   "id": "1dfcf57a-da8f-4e43-94a9-e26843c7dc2c",
   "metadata": {},
   "outputs": [
    {
     "name": "stdin",
     "output_type": "stream",
     "text": [
      "Enter the available quantity for t-shirt:  5\n",
      "Enter the available quantity for mug:  5\n",
      "Enter the available quantity for hat:  5\n",
      "Enter the available quantity for book:  5\n",
      "Enter the available quantity for keychain:  5\n",
      "Enter a product the customer wants to order (t-shirt, mug, hat, book, keychain):  mug\n",
      "Do you want to order another product? (yes/no) no\n"
     ]
    },
    {
     "name": "stdout",
     "output_type": "stream",
     "text": [
      "Products ordered by the customer: {'mug'}\n",
      "\n",
      "\n",
      "Updated Inventory:\n",
      "t-shirt: 5\n",
      "mug: 4\n",
      "hat: 5\n",
      "book: 5\n",
      "keychain: 5\n",
      "\n",
      "Order Statistics:\n",
      "Total Products Ordered: 1\n",
      "Percentage of Products Ordered: 4.166666666666666%\n",
      "\n"
     ]
    }
   ],
   "source": [
    "products = [\"t-shirt\", \"mug\", \"hat\", \"book\", \"keychain\"]\n",
    "\n",
    "def initialize_inventory(products):\n",
    "    inventory = {}\n",
    "    for product in products:\n",
    "        inventory[product] = int(input(f\"Enter the available quantity for {product}: \"))\n",
    "    return inventory   \n",
    "    \n",
    "customer_orders = set()\n",
    "\n",
    "def get_customer_orders(customer_orders):\n",
    "    reorder = \"yes\"\n",
    "    while reorder == \"yes\":\n",
    "        order = input(\"Enter a product the customer wants to order (t-shirt, mug, hat, book, keychain): \").lower()\n",
    "        if order in products:\n",
    "            customer_orders.add(order)\n",
    "            reorder = input(\"Do you want to order another product? (yes/no)\").lower()\n",
    "        else:\n",
    "            print(\"Invalid product, please enter a valid product.\")\n",
    "    else:  \n",
    "       print(\"Products ordered by the customer:\", customer_orders)\n",
    "    return customer_orders \n",
    "\n",
    "def update_inventory(customer_orders, inventory):\n",
    "    for product in customer_orders:\n",
    "        if inventory[product] > 0:\n",
    "          inventory[product] -= 1\n",
    "    print(\"\\n\")        \n",
    "    print(\"Updated Inventory:\")\n",
    "    for product, quantity in inventory.items():\n",
    "        print(f\"{product}: {quantity}\")\n",
    "        \n",
    "    \n",
    "def calculate_order_statistics(customer_orders, products):\n",
    "    total_products_ordered = len(customer_orders)\n",
    "    total_available_products = sum(inventory.values())\n",
    "    percentage_ordered = (total_products_ordered/total_available_products) * 100\n",
    "    return total_products_ordered, percentage_ordered\n",
    "\n",
    "def print_updated_inventory(inventory):\n",
    "    print(\n",
    "f\"\"\"\n",
    "Order Statistics:\n",
    "Total Products Ordered: {total_products_ordered}\n",
    "Percentage of Products Ordered: {percentage_ordered}%\n",
    "\"\"\")\n",
    "\n",
    "inventory = initialize_inventory(products)\n",
    "customer_orders = get_customer_orders(customer_orders)\n",
    "update_inventory(customer_orders, inventory)\n",
    "total_products_ordered, percentage_ordered = calculate_order_statistics(customer_orders, inventory) \n",
    "print_updated_inventory(inventory) \n"
   ]
  },
  {
   "cell_type": "code",
   "execution_count": null,
   "id": "a1c4b860-3219-4a33-a52b-fc019476b0bc",
   "metadata": {},
   "outputs": [],
   "source": []
  },
  {
   "cell_type": "code",
   "execution_count": null,
   "id": "e82ca4c9-3ec7-4992-9312-60ddfc86b09b",
   "metadata": {},
   "outputs": [],
   "source": []
  },
  {
   "cell_type": "code",
   "execution_count": null,
   "id": "9d3992f3-3c95-4697-9a1c-182188594fac",
   "metadata": {},
   "outputs": [],
   "source": []
  },
  {
   "cell_type": "code",
   "execution_count": null,
   "id": "589920cf-6581-4219-b632-8e728e79114f",
   "metadata": {},
   "outputs": [],
   "source": []
  }
 ],
 "metadata": {
  "kernelspec": {
   "display_name": "Python 3 (ipykernel)",
   "language": "python",
   "name": "python3"
  },
  "language_info": {
   "codemirror_mode": {
    "name": "ipython",
    "version": 3
   },
   "file_extension": ".py",
   "mimetype": "text/x-python",
   "name": "python",
   "nbconvert_exporter": "python",
   "pygments_lexer": "ipython3",
   "version": "3.12.4"
  }
 },
 "nbformat": 4,
 "nbformat_minor": 5
}
